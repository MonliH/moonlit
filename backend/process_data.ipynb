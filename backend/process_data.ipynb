{
 "cells": [
  {
   "cell_type": "code",
   "execution_count": 2,
   "metadata": {},
   "outputs": [
    {
     "name": "stderr",
     "output_type": "stream",
     "text": [
      "/home/jxl/anaconda3/envs/hf-latest/lib/python3.10/site-packages/tqdm/auto.py:22: TqdmWarning: IProgress not found. Please update jupyter and ipywidgets. See https://ipywidgets.readthedocs.io/en/stable/user_install.html\n",
      "  from .autonotebook import tqdm as notebook_tqdm\n"
     ]
    }
   ],
   "source": [
    "import datasets\n",
    "import json\n",
    "from glob import glob\n",
    "center = []\n",
    "for file in glob(\"custom_data/center/*.txt\"):\n",
    "    with open(file, \"r\") as f:\n",
    "        center.append(json.load(f))\n",
    "left = []\n",
    "for file in glob(\"custom_data/left/*.txt\"):\n",
    "    with open(file, \"r\") as f:\n",
    "        left.append(f.read())\n",
    "right = []\n",
    "for file in glob(\"custom_data/right/*.txt\"):\n",
    "    with open(file, \"r\") as f:\n",
    "        right.append(f.read())"
   ]
  },
  {
   "cell_type": "code",
   "execution_count": 3,
   "metadata": {},
   "outputs": [],
   "source": [
    "documents = {\"texts\": [], \"titles\": [], \"labels\": []}\n",
    "for c in center:\n",
    "    documents[\"texts\"].append(c)\n",
    "    documents[\"labels\"].append(\"center\")\n",
    "for c in left:\n",
    "    documents[\"texts\"].append(c)\n",
    "    documents[\"labels\"].append(\"left\")\n",
    "for c in right:\n",
    "    documents[\"texts\"].append(c)\n",
    "    documents[\"labels\"].append(\"right\")"
   ]
  },
  {
   "cell_type": "code",
   "execution_count": 5,
   "metadata": {},
   "outputs": [],
   "source": [
    "d = datasets.Dataset.from_dict(documents)"
   ]
  },
  {
   "cell_type": "code",
   "execution_count": 7,
   "metadata": {},
   "outputs": [
    {
     "data": {
      "text/plain": [
       "DatasetDict({\n",
       "    train: Dataset({\n",
       "        features: ['texts', 'labels'],\n",
       "        num_rows: 15625\n",
       "    })\n",
       "    test: Dataset({\n",
       "        features: ['texts', 'labels'],\n",
       "        num_rows: 1737\n",
       "    })\n",
       "})"
      ]
     },
     "execution_count": 7,
     "metadata": {},
     "output_type": "execute_result"
    }
   ],
   "source": [
    "d = d.train_test_split(test_size=0.1)\n",
    "d"
   ]
  },
  {
   "cell_type": "code",
   "execution_count": 10,
   "metadata": {},
   "outputs": [
    {
     "name": "stderr",
     "output_type": "stream",
     "text": [
      "100%|██████████| 15625/15625 [00:00<00:00, 16283.48ex/s]\n",
      "100%|██████████| 1737/1737 [00:00<00:00, 17925.48ex/s]\n"
     ]
    },
    {
     "data": {
      "text/plain": [
       "DatasetDict({\n",
       "    train: Dataset({\n",
       "        features: ['texts', 'labels'],\n",
       "        num_rows: 15625\n",
       "    })\n",
       "    test: Dataset({\n",
       "        features: ['texts', 'labels'],\n",
       "        num_rows: 1737\n",
       "    })\n",
       "})"
      ]
     },
     "execution_count": 10,
     "metadata": {},
     "output_type": "execute_result"
    }
   ],
   "source": [
    "def strip_text(r):\n",
    "    r[\"texts\"] = r[\"texts\"].strip()\n",
    "    return r\n",
    "d1 = d.map(strip_text)"
   ]
  },
  {
   "cell_type": "code",
   "execution_count": 12,
   "metadata": {},
   "outputs": [],
   "source": [
    "lens = []\n",
    "for text in d1[\"train\"][\"texts\"]:\n",
    "    lens.append(len(text))"
   ]
  },
  {
   "cell_type": "code",
   "execution_count": 29,
   "metadata": {},
   "outputs": [],
   "source": [
    "d1.save_to_disk(\"./AllSides/hf_dataset\")"
   ]
  },
  {
   "cell_type": "code",
   "execution_count": 28,
   "metadata": {},
   "outputs": [
    {
     "data": {
      "text/plain": [
       "array([[<AxesSubplot:title={'center':'0'}>]], dtype=object)"
      ]
     },
     "execution_count": 28,
     "metadata": {},
     "output_type": "execute_result"
    },
    {
     "data": {
      "image/png": "[encoded data removed]",
      "text/plain": [
       "<Figure size 640x480 with 1 Axes>"
      ]
     },
     "metadata": {},
     "output_type": "display_data"
    }
   ],
   "source": [
    "import matplotlib.pyplot as plt\n",
    "import numpy as np\n",
    "import pandas as pd\n",
    "pd.DataFrame(lens).hist(column=0)"
   ]
  }
 ],
 "metadata": {
  "kernelspec": {
   "display_name": "Python 3.10.4 ('hf-latest')",
   "language": "python",
   "name": "python3"
  },
  "language_info": {
   "codemirror_mode": {
    "name": "ipython",
    "version": 3
   },
   "file_extension": ".py",
   "mimetype": "text/x-python",
   "name": "python",
   "nbconvert_exporter": "python",
   "pygments_lexer": "ipython3",
   "version": "3.10.4"
  },
  "orig_nbformat": 4,
  "vscode": {
   "interpreter": {
    "hash": "cae3521a4d609cbd1e68518d86cd6c2a2de1f9145c2e58374b22992b98fc808d"
   }
  }
 },
 "nbformat": 4,
 "nbformat_minor": 2
}
